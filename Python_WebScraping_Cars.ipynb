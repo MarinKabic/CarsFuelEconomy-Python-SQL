{
  "nbformat": 4,
  "nbformat_minor": 0,
  "metadata": {
    "colab": {
      "provenance": []
    },
    "kernelspec": {
      "name": "python3",
      "display_name": "Python 3"
    },
    "language_info": {
      "name": "python"
    }
  },
  "cells": [
    {
      "cell_type": "code",
      "execution_count": null,
      "metadata": {
        "id": "JHrGFpPLk0FB"
      },
      "outputs": [],
      "source": [
        "from bs4 import BeautifulSoup as bs\n",
        "import requests"
      ]
    },
    {
      "cell_type": "code",
      "source": [
        "url = 'https://www.fueleconomy.gov/feg/PowerSearch.do?action=noform&year1=2016&year2=2022&minmsrpsel=0&maxmsrpsel=0&city=0&hwy=0&comb=0&YearSel=2016-2022&make=&mclass=&vfuel=&vtype=&trany=&drive=&cyl=&MpgSel=000&sortBy=Comb&Units=&url=SearchServlet&opt=new&minmsrp=0&maxmsrp=0&minmpg=0&maxmpg=0&sCharge=&tCharge=&startstop=&cylDeact=&rowLimit=50&pageno=1&tabView=0'"
      ],
      "metadata": {
        "id": "xWUfbbuMk8IJ"
      },
      "execution_count": null,
      "outputs": []
    },
    {
      "cell_type": "code",
      "source": [
        "response = requests.get(url)"
      ],
      "metadata": {
        "id": "un0yvB8-lBlX"
      },
      "execution_count": null,
      "outputs": []
    },
    {
      "cell_type": "code",
      "source": [
        "response"
      ],
      "metadata": {
        "colab": {
          "base_uri": "https://localhost:8080/"
        },
        "id": "jFOuOPWjlDiX",
        "outputId": "81020dbe-907d-4ed8-d348-1216c963070e"
      },
      "execution_count": null,
      "outputs": [
        {
          "output_type": "execute_result",
          "data": {
            "text/plain": [
              "<Response [200]>"
            ]
          },
          "metadata": {},
          "execution_count": 89
        }
      ]
    },
    {
      "cell_type": "code",
      "source": [
        "soup = bs(response.text, 'html.parser')"
      ],
      "metadata": {
        "id": "OBi-dSISlE2H"
      },
      "execution_count": null,
      "outputs": []
    },
    {
      "cell_type": "code",
      "source": [
        "soup"
      ],
      "metadata": {
        "id": "Be0F7FdLlIxn"
      },
      "execution_count": null,
      "outputs": []
    },
    {
      "cell_type": "code",
      "source": [
        "## gdje se sve nalazi\n",
        "tb = soup.find('tbody')"
      ],
      "metadata": {
        "id": "_kKJYh-klJj2"
      },
      "execution_count": null,
      "outputs": []
    },
    {
      "cell_type": "code",
      "source": [
        "## pronađi redove\n",
        "rows = tb.find_all('tr', class_ = 'ymm-row')"
      ],
      "metadata": {
        "id": "MKwa_83WlZ9X"
      },
      "execution_count": null,
      "outputs": []
    },
    {
      "cell_type": "code",
      "source": [
        "rows"
      ],
      "metadata": {
        "id": "ufE5rlRXlaaX"
      },
      "execution_count": null,
      "outputs": []
    },
    {
      "cell_type": "code",
      "source": [
        "## pronađi imena\n",
        "for name in rows:\n",
        "  carfind = name.find('a')\n",
        "  car = carfind.text\n",
        "  print(car)"
      ],
      "metadata": {
        "id": "61dKqqpHl3JH"
      },
      "execution_count": null,
      "outputs": []
    },
    {
      "cell_type": "code",
      "source": [
        "## pronađi pogon i mijenjac\n",
        "for name in rows:\n",
        "  drivefind = name.find('span')\n",
        "  drive = drivefind.text\n",
        "  print(drive)"
      ],
      "metadata": {
        "id": "4A8_-5oVmPbn"
      },
      "execution_count": null,
      "outputs": []
    },
    {
      "cell_type": "code",
      "source": [
        "## combined miles per galon\n",
        "mpg_row = tb.find_all('td', class_ = 'mpg-comb')\n",
        "\n",
        "for name in mpg_row:\n",
        "  mpg = name.get_text()\n",
        "  print(mpg)"
      ],
      "metadata": {
        "id": "4t7eXp7no6R3"
      },
      "execution_count": null,
      "outputs": []
    },
    {
      "cell_type": "code",
      "source": [
        "## anual fuel cost\n",
        "fuel_row = tb.find_all('td', class_ = 'ann-fuel-cost')\n",
        "\n",
        "for name in fuel_row:\n",
        "  fuel = name.get_text()\n",
        "  fuel = fuel[1:]\n",
        "  print(fuel)"
      ],
      "metadata": {
        "id": "Az2jlKLip9Zu"
      },
      "execution_count": null,
      "outputs": []
    },
    {
      "cell_type": "code",
      "source": [
        "import pandas as pd"
      ],
      "metadata": {
        "id": "bpErN9rTp-XA"
      },
      "execution_count": null,
      "outputs": []
    },
    {
      "cell_type": "code",
      "source": [
        "## first page into a dataframe\n",
        "car_data = pd.DataFrame(columns=['Car Name', 'Manual/Motor', 'MPG', 'Annual Fuel Cost'])\n",
        "for name, mpg_name, fuel_name in zip(rows, mpg_row, fuel_row):\n",
        "    carfind = name.find('a')\n",
        "    car = carfind.text\n",
        "\n",
        "    drivefind = name.find('span')\n",
        "    drive = drivefind.text\n",
        "\n",
        "    mpg = mpg_name.get_text()\n",
        "\n",
        "    fuel = fuel_name.get_text()[1:]\n",
        "\n",
        "      # Append the data to the DataFrame\n",
        "    car_data = car_data.append({'Car Name': car, 'Manual/Motor': drive, 'MPG': mpg, 'Annual Fuel Cost': fuel}, ignore_index=True)"
      ],
      "metadata": {
        "id": "o1v_nvdz2Rog"
      },
      "execution_count": null,
      "outputs": []
    },
    {
      "cell_type": "code",
      "source": [
        "car_data"
      ],
      "metadata": {
        "id": "NhZBEWD22yfJ"
      },
      "execution_count": null,
      "outputs": []
    },
    {
      "cell_type": "code",
      "source": [
        "## bring all the pages into 1 dataframe\n",
        "car_infos = pd.DataFrame(columns=['Car Name', 'Manual/Motor', 'MPG', 'Annual Fuel Cost'])\n",
        "for i in range(1,183):\n",
        "  url = f'https://www.fueleconomy.gov/feg/PowerSearch.do?action=noform&year1=2016&year2=2022&minmsrpsel=0&maxmsrpsel=0&city=0&hwy=0&comb=0&YearSel=2016-2022&make=&mclass=&vfuel=&vtype=&trany=&drive=&cyl=&MpgSel=000&sortBy=Comb&Units=&url=SearchServlet&opt=new&minmsrp=0&maxmsrp=0&minmpg=0&maxmpg=0&sCharge=&tCharge=&startstop=&cylDeact=&rowLimit=50&pageno={i}&tabView=0'\n",
        "  response = requests.get(url)\n",
        "  soup = bs(response.text, 'html.parser')\n",
        "  tb = soup.find('tbody')\n",
        "  rows = tb.find_all('tr', class_ = 'ymm-row')\n",
        "  mpg_row = tb.find_all('td', class_ = 'mpg-comb')\n",
        "  fuel_row = tb.find_all('td', class_ = 'ann-fuel-cost')\n",
        "\n",
        "  for name, mpg_name, fuel_name in zip(rows, mpg_row, fuel_row):\n",
        "      carfind = name.find('a')\n",
        "      car = carfind.text\n",
        "\n",
        "      drivefind = name.find('span')\n",
        "      drive = drivefind.text\n",
        "\n",
        "      mpg = mpg_name.get_text()\n",
        "\n",
        "      # fuel = fuel_name.get_text()[1:]\n",
        "      fuel = fuel_name.get_text().strip()\n",
        "\n",
        "      # Append the data to the DataFrame\n",
        "      car_infos = car_infos.append({'Car Name': car, 'Manual/Motor': drive, 'MPG': mpg, 'Annual Fuel Cost': fuel}, ignore_index=True)\n"
      ],
      "metadata": {
        "id": "cwlMLMGZuI6B"
      },
      "execution_count": null,
      "outputs": []
    },
    {
      "cell_type": "code",
      "source": [
        "car_infos"
      ],
      "metadata": {
        "id": "95Tu27ac0dDP"
      },
      "execution_count": null,
      "outputs": []
    },
    {
      "cell_type": "code",
      "source": [
        "car_infos.to_csv('cars.csv')"
      ],
      "metadata": {
        "id": "ahSHX2lh3BDu"
      },
      "execution_count": null,
      "outputs": []
    },
    {
      "cell_type": "code",
      "source": [],
      "metadata": {
        "id": "vfFCmDyQ-KGL"
      },
      "execution_count": null,
      "outputs": []
    }
  ]
}