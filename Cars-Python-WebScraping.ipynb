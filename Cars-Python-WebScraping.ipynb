{
  "nbformat": 4,
  "nbformat_minor": 0,
  "metadata": {
    "colab": {
      "provenance": [],
      "authorship_tag": "ABX9TyNJUo6cUL6QxJt95yhmvhxU"
    },
    "kernelspec": {
      "name": "python3",
      "display_name": "Python 3"
    },
    "language_info": {
      "name": "python"
    }
  },
  "cells": [
    {
      "cell_type": "code",
      "execution_count": 1,
      "metadata": {
        "id": "JHrGFpPLk0FB"
      },
      "outputs": [],
      "source": [
        "from bs4 import BeautifulSoup as bs\n",
        "import requests"
      ]
    },
    {
      "cell_type": "code",
      "source": [
        "url = 'https://www.fueleconomy.gov/feg/PowerSearch.do?action=noform&year1=2016&year2=2022&minmsrpsel=0&maxmsrpsel=0&city=0&hwy=0&comb=0&YearSel=2016-2022&make=&mclass=&vfuel=&vtype=&trany=&drive=&cyl=&MpgSel=000&sortBy=Comb&Units=&url=SearchServlet&opt=new&minmsrp=0&maxmsrp=0&minmpg=0&maxmpg=0&sCharge=&tCharge=&startstop=&cylDeact=&rowLimit=50&pageno=1&tabView=0'"
      ],
      "metadata": {
        "id": "xWUfbbuMk8IJ"
      },
      "execution_count": 2,
      "outputs": []
    },
    {
      "cell_type": "code",
      "source": [
        "response = requests.get(url)"
      ],
      "metadata": {
        "id": "un0yvB8-lBlX"
      },
      "execution_count": 3,
      "outputs": []
    },
    {
      "cell_type": "code",
      "source": [
        "response"
      ],
      "metadata": {
        "colab": {
          "base_uri": "https://localhost:8080/"
        },
        "id": "jFOuOPWjlDiX",
        "outputId": "832419ff-bace-4c4f-9c7b-d0684a1c4f12"
      },
      "execution_count": 4,
      "outputs": [
        {
          "output_type": "execute_result",
          "data": {
            "text/plain": [
              "<Response [200]>"
            ]
          },
          "metadata": {},
          "execution_count": 4
        }
      ]
    },
    {
      "cell_type": "code",
      "source": [
        "soup = bs(response.text, 'html.parser')"
      ],
      "metadata": {
        "id": "OBi-dSISlE2H"
      },
      "execution_count": 5,
      "outputs": []
    },
    {
      "cell_type": "code",
      "source": [
        "soup"
      ],
      "metadata": {
        "id": "Be0F7FdLlIxn"
      },
      "execution_count": null,
      "outputs": []
    },
    {
      "cell_type": "code",
      "source": [
        "## body\n",
        "tb = soup.find('tbody')"
      ],
      "metadata": {
        "id": "_kKJYh-klJj2"
      },
      "execution_count": 6,
      "outputs": []
    },
    {
      "cell_type": "code",
      "source": [
        "## all the rows\n",
        "rows = tb.find_all('tr', class_ = 'ymm-row')"
      ],
      "metadata": {
        "id": "MKwa_83WlZ9X"
      },
      "execution_count": 7,
      "outputs": []
    },
    {
      "cell_type": "code",
      "source": [
        "rows"
      ],
      "metadata": {
        "id": "ufE5rlRXlaaX"
      },
      "execution_count": null,
      "outputs": []
    },
    {
      "cell_type": "code",
      "source": [
        "## car names\n",
        "for name in rows:\n",
        "  carfind = name.find('a')\n",
        "  car = carfind.text\n",
        "  print(car)"
      ],
      "metadata": {
        "id": "61dKqqpHl3JH"
      },
      "execution_count": null,
      "outputs": []
    },
    {
      "cell_type": "code",
      "source": [
        "## fuel & manual type\n",
        "for name in rows:\n",
        "  drivefind = name.find('span')\n",
        "  drive = drivefind.text\n",
        "  print(drive)"
      ],
      "metadata": {
        "id": "4A8_-5oVmPbn"
      },
      "execution_count": null,
      "outputs": []
    },
    {
      "cell_type": "code",
      "source": [
        "## combined miles per galon\n",
        "mpg_row = tb.find_all('td', class_ = 'mpg-comb')\n",
        "\n",
        "for name in mpg_row:\n",
        "  mpg = name.get_text()\n",
        "  print(mpg)"
      ],
      "metadata": {
        "id": "4t7eXp7no6R3"
      },
      "execution_count": null,
      "outputs": []
    },
    {
      "cell_type": "code",
      "source": [
        "## annual fuel cost\n",
        "fuel_row = tb.find_all('td', class_ = 'ann-fuel-cost')\n",
        "\n",
        "for name in fuel_row:\n",
        "  fuel = name.get_text()\n",
        "  fuel = fuel[1:]\n",
        "  print(fuel)"
      ],
      "metadata": {
        "id": "Az2jlKLip9Zu"
      },
      "execution_count": null,
      "outputs": []
    },
    {
      "cell_type": "code",
      "source": [
        "import pandas as pd"
      ],
      "metadata": {
        "id": "bpErN9rTp-XA"
      },
      "execution_count": 21,
      "outputs": []
    },
    {
      "cell_type": "code",
      "source": [
        "## Inserting the first page into a dataframe\n",
        "car_data = pd.DataFrame(columns=['Car Name', 'Manual/Motor', 'MPG', 'Annual Fuel Cost'])\n",
        "for name, mpg_name, fuel_name in zip(rows, mpg_row, fuel_row):\n",
        "    carfind = name.find('a')\n",
        "    car = carfind.text\n",
        "\n",
        "    drivefind = name.find('span')\n",
        "    drive = drivefind.text\n",
        "\n",
        "    mpg = mpg_name.get_text()\n",
        "\n",
        "    fuel = fuel_name.get_text()[1:]\n",
        "\n",
        "# Appending the data to the DataFrame\n",
        "    car_data = car_data.append({'Car Name': car, 'Manual/Motor': drive, 'MPG': mpg, 'Annual Fuel Cost': fuel}, ignore_index=True)"
      ],
      "metadata": {
        "id": "o1v_nvdz2Rog"
      },
      "execution_count": null,
      "outputs": []
    },
    {
      "cell_type": "code",
      "source": [
        "car_data"
      ],
      "metadata": {
        "id": "NhZBEWD22yfJ"
      },
      "execution_count": null,
      "outputs": []
    },
    {
      "cell_type": "code",
      "source": [
        "## Bring all the pages into 1 dataframe\n",
        "car_infos = pd.DataFrame(columns=['Car Name', 'Manual/Motor', 'MPG', 'Annual Fuel Cost'])\n",
        "for i in range(1,183):\n",
        "  url = f'https://www.fueleconomy.gov/feg/PowerSearch.do?action=noform&year1=2016&year2=2022&minmsrpsel=0&maxmsrpsel=0&city=0&hwy=0&comb=0&YearSel=2016-2022&make=&mclass=&vfuel=&vtype=&trany=&drive=&cyl=&MpgSel=000&sortBy=Comb&Units=&url=SearchServlet&opt=new&minmsrp=0&maxmsrp=0&minmpg=0&maxmpg=0&sCharge=&tCharge=&startstop=&cylDeact=&rowLimit=50&pageno={i}&tabView=0'\n",
        "  response = requests.get(url)\n",
        "  soup = bs(response.text, 'html.parser')\n",
        "  tb = soup.find('tbody')\n",
        "  rows = tb.find_all('tr', class_ = 'ymm-row')\n",
        "  mpg_row = tb.find_all('td', class_ = 'mpg-comb')\n",
        "  fuel_row = tb.find_all('td', class_ = 'ann-fuel-cost')\n",
        "\n",
        "  for name, mpg_name, fuel_name in zip(rows, mpg_row, fuel_row):\n",
        "      carfind = name.find('a')\n",
        "      car = carfind.text\n",
        "\n",
        "      drivefind = name.find('span')\n",
        "      drive = drivefind.text\n",
        "\n",
        "      mpg = mpg_name.get_text()\n",
        "\n",
        "      fuel = fuel_name.get_text().strip()\n",
        "\n",
        "# Append the data to the DataFrame\n",
        "      car_infos = car_infos.append({'Car Name': car, 'Manual/Motor': drive, 'MPG': mpg, 'Annual Fuel Cost': fuel}, ignore_index=True)\n"
      ],
      "metadata": {
        "id": "cwlMLMGZuI6B"
      },
      "execution_count": null,
      "outputs": []
    },
    {
      "cell_type": "code",
      "source": [
        "car_infos"
      ],
      "metadata": {
        "id": "95Tu27ac0dDP",
        "colab": {
          "base_uri": "https://localhost:8080/",
          "height": 424
        },
        "outputId": "ed4b9be7-2c47-41cd-b815-5d4bf5feb91e"
      },
      "execution_count": 27,
      "outputs": [
        {
          "output_type": "execute_result",
          "data": {
            "text/plain": [
              "                                        Car Name  \\\n",
              "0     2021 Tesla Model 3 Standard Range Plus RWD   \n",
              "1         2020 Tesla Model 3 Standard Range Plus   \n",
              "2                    2019 Hyundai Ioniq Electric   \n",
              "3                    2018 Hyundai Ioniq Electric   \n",
              "4                    2017 Hyundai Ioniq Electric   \n",
              "...                                          ...   \n",
              "9094   2021 Lamborghini Aventador Sian Roadster    \n",
              "9095   2020 Lamborghini Aventador Sian Roadster    \n",
              "9096              2021 Bugatti Chiron Pur Sport    \n",
              "9097              2022 Bugatti Chiron Pur Sport    \n",
              "9098            2022 Bugatti Chiron Super Sport    \n",
              "\n",
              "                                           Manual/Motor  MPG Annual Fuel Cost  \n",
              "0                           Automatic (A1), Electricity  142             $500  \n",
              "1                           Automatic (A1), Electricity  141             $500  \n",
              "2                           Automatic (A1), Electricity  136             $500  \n",
              "3                           Automatic (A1), Electricity  136             $500  \n",
              "4                           Automatic (A1), Electricity  136             $500  \n",
              "...                                                 ...  ...              ...  \n",
              "9094  6.5 L, 12 cyl, Automatic (AM-S7), Premium Gaso...   10           $6,650  \n",
              "9095  6.5 L, 12 cyl, Automatic (AM-S7), Premium Gaso...   10           $6,650  \n",
              "9096  8.0 L, 16 cyl, Automatic (AM-S7), Turbo, Premi...   10           $6,650  \n",
              "9097  8.0 L, 16 cyl, Automatic (AM-S7), Turbo, Premi...    9           $7,400  \n",
              "9098  8.0 L, 16 cyl, Automatic (AM-S7), Turbo, Premi...    9           $7,400  \n",
              "\n",
              "[9099 rows x 4 columns]"
            ],
            "text/html": [
              "\n",
              "  <div id=\"df-07194f6e-a5b9-44d2-9b3f-4cc80f7741fb\" class=\"colab-df-container\">\n",
              "    <div>\n",
              "<style scoped>\n",
              "    .dataframe tbody tr th:only-of-type {\n",
              "        vertical-align: middle;\n",
              "    }\n",
              "\n",
              "    .dataframe tbody tr th {\n",
              "        vertical-align: top;\n",
              "    }\n",
              "\n",
              "    .dataframe thead th {\n",
              "        text-align: right;\n",
              "    }\n",
              "</style>\n",
              "<table border=\"1\" class=\"dataframe\">\n",
              "  <thead>\n",
              "    <tr style=\"text-align: right;\">\n",
              "      <th></th>\n",
              "      <th>Car Name</th>\n",
              "      <th>Manual/Motor</th>\n",
              "      <th>MPG</th>\n",
              "      <th>Annual Fuel Cost</th>\n",
              "    </tr>\n",
              "  </thead>\n",
              "  <tbody>\n",
              "    <tr>\n",
              "      <th>0</th>\n",
              "      <td>2021 Tesla Model 3 Standard Range Plus RWD</td>\n",
              "      <td>Automatic (A1), Electricity</td>\n",
              "      <td>142</td>\n",
              "      <td>$500</td>\n",
              "    </tr>\n",
              "    <tr>\n",
              "      <th>1</th>\n",
              "      <td>2020 Tesla Model 3 Standard Range Plus</td>\n",
              "      <td>Automatic (A1), Electricity</td>\n",
              "      <td>141</td>\n",
              "      <td>$500</td>\n",
              "    </tr>\n",
              "    <tr>\n",
              "      <th>2</th>\n",
              "      <td>2019 Hyundai Ioniq Electric</td>\n",
              "      <td>Automatic (A1), Electricity</td>\n",
              "      <td>136</td>\n",
              "      <td>$500</td>\n",
              "    </tr>\n",
              "    <tr>\n",
              "      <th>3</th>\n",
              "      <td>2018 Hyundai Ioniq Electric</td>\n",
              "      <td>Automatic (A1), Electricity</td>\n",
              "      <td>136</td>\n",
              "      <td>$500</td>\n",
              "    </tr>\n",
              "    <tr>\n",
              "      <th>4</th>\n",
              "      <td>2017 Hyundai Ioniq Electric</td>\n",
              "      <td>Automatic (A1), Electricity</td>\n",
              "      <td>136</td>\n",
              "      <td>$500</td>\n",
              "    </tr>\n",
              "    <tr>\n",
              "      <th>...</th>\n",
              "      <td>...</td>\n",
              "      <td>...</td>\n",
              "      <td>...</td>\n",
              "      <td>...</td>\n",
              "    </tr>\n",
              "    <tr>\n",
              "      <th>9094</th>\n",
              "      <td>2021 Lamborghini Aventador Sian Roadster</td>\n",
              "      <td>6.5 L, 12 cyl, Automatic (AM-S7), Premium Gaso...</td>\n",
              "      <td>10</td>\n",
              "      <td>$6,650</td>\n",
              "    </tr>\n",
              "    <tr>\n",
              "      <th>9095</th>\n",
              "      <td>2020 Lamborghini Aventador Sian Roadster</td>\n",
              "      <td>6.5 L, 12 cyl, Automatic (AM-S7), Premium Gaso...</td>\n",
              "      <td>10</td>\n",
              "      <td>$6,650</td>\n",
              "    </tr>\n",
              "    <tr>\n",
              "      <th>9096</th>\n",
              "      <td>2021 Bugatti Chiron Pur Sport</td>\n",
              "      <td>8.0 L, 16 cyl, Automatic (AM-S7), Turbo, Premi...</td>\n",
              "      <td>10</td>\n",
              "      <td>$6,650</td>\n",
              "    </tr>\n",
              "    <tr>\n",
              "      <th>9097</th>\n",
              "      <td>2022 Bugatti Chiron Pur Sport</td>\n",
              "      <td>8.0 L, 16 cyl, Automatic (AM-S7), Turbo, Premi...</td>\n",
              "      <td>9</td>\n",
              "      <td>$7,400</td>\n",
              "    </tr>\n",
              "    <tr>\n",
              "      <th>9098</th>\n",
              "      <td>2022 Bugatti Chiron Super Sport</td>\n",
              "      <td>8.0 L, 16 cyl, Automatic (AM-S7), Turbo, Premi...</td>\n",
              "      <td>9</td>\n",
              "      <td>$7,400</td>\n",
              "    </tr>\n",
              "  </tbody>\n",
              "</table>\n",
              "<p>9099 rows × 4 columns</p>\n",
              "</div>\n",
              "    <div class=\"colab-df-buttons\">\n",
              "\n",
              "  <div class=\"colab-df-container\">\n",
              "    <button class=\"colab-df-convert\" onclick=\"convertToInteractive('df-07194f6e-a5b9-44d2-9b3f-4cc80f7741fb')\"\n",
              "            title=\"Convert this dataframe to an interactive table.\"\n",
              "            style=\"display:none;\">\n",
              "\n",
              "  <svg xmlns=\"http://www.w3.org/2000/svg\" height=\"24px\" viewBox=\"0 -960 960 960\">\n",
              "    <path d=\"M120-120v-720h720v720H120Zm60-500h600v-160H180v160Zm220 220h160v-160H400v160Zm0 220h160v-160H400v160ZM180-400h160v-160H180v160Zm440 0h160v-160H620v160ZM180-180h160v-160H180v160Zm440 0h160v-160H620v160Z\"/>\n",
              "  </svg>\n",
              "    </button>\n",
              "\n",
              "  <style>\n",
              "    .colab-df-container {\n",
              "      display:flex;\n",
              "      gap: 12px;\n",
              "    }\n",
              "\n",
              "    .colab-df-convert {\n",
              "      background-color: #E8F0FE;\n",
              "      border: none;\n",
              "      border-radius: 50%;\n",
              "      cursor: pointer;\n",
              "      display: none;\n",
              "      fill: #1967D2;\n",
              "      height: 32px;\n",
              "      padding: 0 0 0 0;\n",
              "      width: 32px;\n",
              "    }\n",
              "\n",
              "    .colab-df-convert:hover {\n",
              "      background-color: #E2EBFA;\n",
              "      box-shadow: 0px 1px 2px rgba(60, 64, 67, 0.3), 0px 1px 3px 1px rgba(60, 64, 67, 0.15);\n",
              "      fill: #174EA6;\n",
              "    }\n",
              "\n",
              "    .colab-df-buttons div {\n",
              "      margin-bottom: 4px;\n",
              "    }\n",
              "\n",
              "    [theme=dark] .colab-df-convert {\n",
              "      background-color: #3B4455;\n",
              "      fill: #D2E3FC;\n",
              "    }\n",
              "\n",
              "    [theme=dark] .colab-df-convert:hover {\n",
              "      background-color: #434B5C;\n",
              "      box-shadow: 0px 1px 3px 1px rgba(0, 0, 0, 0.15);\n",
              "      filter: drop-shadow(0px 1px 2px rgba(0, 0, 0, 0.3));\n",
              "      fill: #FFFFFF;\n",
              "    }\n",
              "  </style>\n",
              "\n",
              "    <script>\n",
              "      const buttonEl =\n",
              "        document.querySelector('#df-07194f6e-a5b9-44d2-9b3f-4cc80f7741fb button.colab-df-convert');\n",
              "      buttonEl.style.display =\n",
              "        google.colab.kernel.accessAllowed ? 'block' : 'none';\n",
              "\n",
              "      async function convertToInteractive(key) {\n",
              "        const element = document.querySelector('#df-07194f6e-a5b9-44d2-9b3f-4cc80f7741fb');\n",
              "        const dataTable =\n",
              "          await google.colab.kernel.invokeFunction('convertToInteractive',\n",
              "                                                    [key], {});\n",
              "        if (!dataTable) return;\n",
              "\n",
              "        const docLinkHtml = 'Like what you see? Visit the ' +\n",
              "          '<a target=\"_blank\" href=https://colab.research.google.com/notebooks/data_table.ipynb>data table notebook</a>'\n",
              "          + ' to learn more about interactive tables.';\n",
              "        element.innerHTML = '';\n",
              "        dataTable['output_type'] = 'display_data';\n",
              "        await google.colab.output.renderOutput(dataTable, element);\n",
              "        const docLink = document.createElement('div');\n",
              "        docLink.innerHTML = docLinkHtml;\n",
              "        element.appendChild(docLink);\n",
              "      }\n",
              "    </script>\n",
              "  </div>\n",
              "\n",
              "\n",
              "<div id=\"df-c700f072-b84f-4e3d-8db3-b20187e02aef\">\n",
              "  <button class=\"colab-df-quickchart\" onclick=\"quickchart('df-c700f072-b84f-4e3d-8db3-b20187e02aef')\"\n",
              "            title=\"Suggest charts.\"\n",
              "            style=\"display:none;\">\n",
              "\n",
              "<svg xmlns=\"http://www.w3.org/2000/svg\" height=\"24px\"viewBox=\"0 0 24 24\"\n",
              "     width=\"24px\">\n",
              "    <g>\n",
              "        <path d=\"M19 3H5c-1.1 0-2 .9-2 2v14c0 1.1.9 2 2 2h14c1.1 0 2-.9 2-2V5c0-1.1-.9-2-2-2zM9 17H7v-7h2v7zm4 0h-2V7h2v10zm4 0h-2v-4h2v4z\"/>\n",
              "    </g>\n",
              "</svg>\n",
              "  </button>\n",
              "\n",
              "<style>\n",
              "  .colab-df-quickchart {\n",
              "    background-color: #E8F0FE;\n",
              "    border: none;\n",
              "    border-radius: 50%;\n",
              "    cursor: pointer;\n",
              "    display: none;\n",
              "    fill: #1967D2;\n",
              "    height: 32px;\n",
              "    padding: 0 0 0 0;\n",
              "    width: 32px;\n",
              "  }\n",
              "\n",
              "  .colab-df-quickchart:hover {\n",
              "    background-color: #E2EBFA;\n",
              "    box-shadow: 0px 1px 2px rgba(60, 64, 67, 0.3), 0px 1px 3px 1px rgba(60, 64, 67, 0.15);\n",
              "    fill: #174EA6;\n",
              "  }\n",
              "\n",
              "  [theme=dark] .colab-df-quickchart {\n",
              "    background-color: #3B4455;\n",
              "    fill: #D2E3FC;\n",
              "  }\n",
              "\n",
              "  [theme=dark] .colab-df-quickchart:hover {\n",
              "    background-color: #434B5C;\n",
              "    box-shadow: 0px 1px 3px 1px rgba(0, 0, 0, 0.15);\n",
              "    filter: drop-shadow(0px 1px 2px rgba(0, 0, 0, 0.3));\n",
              "    fill: #FFFFFF;\n",
              "  }\n",
              "</style>\n",
              "\n",
              "  <script>\n",
              "    async function quickchart(key) {\n",
              "      const charts = await google.colab.kernel.invokeFunction(\n",
              "          'suggestCharts', [key], {});\n",
              "    }\n",
              "    (() => {\n",
              "      let quickchartButtonEl =\n",
              "        document.querySelector('#df-c700f072-b84f-4e3d-8db3-b20187e02aef button');\n",
              "      quickchartButtonEl.style.display =\n",
              "        google.colab.kernel.accessAllowed ? 'block' : 'none';\n",
              "    })();\n",
              "  </script>\n",
              "</div>\n",
              "    </div>\n",
              "  </div>\n"
            ]
          },
          "metadata": {},
          "execution_count": 27
        }
      ]
    },
    {
      "cell_type": "code",
      "source": [
        "car_infos.to_csv('cars.csv')"
      ],
      "metadata": {
        "id": "ahSHX2lh3BDu"
      },
      "execution_count": null,
      "outputs": []
    }
  ]
}
